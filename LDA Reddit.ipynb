{
 "cells": [
  {
   "cell_type": "code",
   "execution_count": 1,
   "id": "scientific-philip",
   "metadata": {},
   "outputs": [],
   "source": [
    "import pandas as pd\n",
    "import numpy as np\n",
    "\n",
    "import os\n",
    "import re\n",
    "import csv\n",
    "import glob\n",
    "import os.path\n",
    "import matplotlib.pyplot as plt\n",
    "\n",
    "import nltk\n",
    "from nltk.corpus import stopwords\n",
    "from nltk.stem.porter import *\n",
    "\n",
    "from gensim import models\n",
    "from gensim.models import CoherenceModel"
   ]
  },
  {
   "cell_type": "code",
   "execution_count": 2,
   "id": "wooden-brooks",
   "metadata": {},
   "outputs": [],
   "source": [
    "stop_words = set(stopwords.words('english'))\n",
    "stop_words.update(['http'] )\n",
    "\n",
    "def cleanHtml(sentence):\n",
    "    cleanr = re.compile('<.*?>')\n",
    "    cleantext = re.sub(cleanr, ' ', str(sentence))\n",
    "    return cleantext\n",
    "\n",
    "\n",
    "def cleanPunc(sentence): #function to clean the word of any punctuation or special characters\n",
    "    cleaned = re.sub(r'[?|!|\\'|\"|#]',r'',sentence)\n",
    "    cleaned = re.sub(r'[.|,|)|(|\\|/]',r' ',cleaned)\n",
    "    cleaned = cleaned.strip()\n",
    "    cleaned = cleaned.replace(\"\\n\",\" \")\n",
    "    cleaned = cleaned.replace(\"\\s+\",\" \")\n",
    "\n",
    "    return cleaned\n",
    "\n",
    "\n",
    "def keepAlpha(sentence):\n",
    "    alpha_sent = \"\"\n",
    "    for word in sentence.split():\n",
    "        alpha_word = re.sub('[^a-z A-Z]+', ' ', word)\n",
    "        alpha_sent += alpha_word\n",
    "        alpha_sent += \" \"\n",
    "    alpha_sent = alpha_sent.strip()\n",
    "    return alpha_sent\n",
    "\n",
    "def removeStopWords(sentence, stop_words):\n",
    "    #global re_stop_words\n",
    "    re_stop_words = re.compile(r\"\\b(\" + \"|\".join(stop_words) + \")\\\\W\", re.I)\n",
    "    return re_stop_words.sub(\" \", sentence)"
   ]
  },
  {
   "cell_type": "markdown",
   "id": "duplicate-hamburg",
   "metadata": {},
   "source": [
    "### Import and text cleaning"
   ]
  },
  {
   "cell_type": "code",
   "execution_count": 4,
   "id": "dynamic-property",
   "metadata": {},
   "outputs": [],
   "source": [
    "# Import intermediate rditter dataframe\n",
    "df_rd = pd.read_csv('df_rd_sentiment.csv')\n",
    "\n",
    "# Clean text\n",
    "stemmer = PorterStemmer()\n",
    "df_rd['clean_text'] = df_rd.Title.str.lower()\n",
    "df_rd['clean_text'] = df_rd['clean_text'].apply(cleanHtml)\n",
    "df_rd['clean_text'] = df_rd['clean_text'].apply(cleanPunc)\n",
    "df_rd['clean_text'] = df_rd['clean_text'].apply(keepAlpha)\n",
    "df_rd['clean_text'] = df_rd['clean_text'].apply(lambda x: removeStopWords(x, stop_words))\n",
    "df_rd['clean_text'] = df_rd['clean_text'].str.split().apply(lambda x: ' '.join(w for w in x if len(w)>2))\n",
    "df_rd['clean_text'] = df_rd['clean_text'].str.split().apply(lambda x: ' '.join([stemmer.stem(w) for w in x]))"
   ]
  },
  {
   "cell_type": "markdown",
   "id": "opposite-excitement",
   "metadata": {},
   "source": [
    "### Tokenisation and lemmatisation"
   ]
  },
  {
   "cell_type": "code",
   "execution_count": 5,
   "id": "changing-folks",
   "metadata": {},
   "outputs": [],
   "source": [
    "from nltk.tokenize import sent_tokenize\n",
    "df_rd['sentences'] = df_rd['clean_text'].apply(sent_tokenize)\n",
    "\n",
    "from nltk.tokenize import word_tokenize\n",
    "df_rd['tokens_sentences'] = df_rd['sentences'].apply(lambda sentences: [word_tokenize(sentence) for sentence in sentences])\n",
    "\n",
    "from nltk import pos_tag\n",
    "df_rd['POS_tokens'] = df_rd['tokens_sentences'].apply(lambda tokens_sentences: [pos_tag(tokens) for tokens in tokens_sentences])\n",
    "\n",
    "# Inspired from https://stackoverflow.com/a/15590384\n",
    "from nltk.corpus import wordnet\n",
    "\n",
    "def get_wordnet_pos(treebank_tag):\n",
    "\n",
    "    if treebank_tag.startswith('J'):\n",
    "        return wordnet.ADJ\n",
    "    elif treebank_tag.startswith('V'):\n",
    "        return wordnet.VERB\n",
    "    elif treebank_tag.startswith('N'):\n",
    "        return wordnet.NOUN\n",
    "    elif treebank_tag.startswith('R'):\n",
    "        return wordnet.ADV\n",
    "    else:\n",
    "        return ''\n",
    "\n",
    "from nltk.stem.wordnet import WordNetLemmatizer\n",
    "lemmatizer = WordNetLemmatizer()\n",
    "\n",
    "# Lemmatizing each word with its POS tag, in each sentence\n",
    "df_rd['tokens_sentences_lemmatized'] = df_rd['POS_tokens'].apply(\n",
    "    lambda list_tokens_POS: [\n",
    "        [\n",
    "            lemmatizer.lemmatize(el[0], get_wordnet_pos(el[1])) \n",
    "            if get_wordnet_pos(el[1]) != '' else el[0] for el in tokens_POS\n",
    "        ] \n",
    "        for tokens_POS in list_tokens_POS\n",
    "    ]\n",
    ")\n",
    "\n",
    "from itertools import chain # to flatten list of sentences of tokens into list of tokens\n",
    "\n",
    "df_rd['tokens'] = df_rd['tokens_sentences_lemmatized'].map(lambda sentences: chain.from_iterable(sentences))\n",
    "df_rd['tokens'] = df_rd['tokens'].map(lambda tokens: [token.lower() for token in tokens if token.isalpha() \n",
    "                                                    and token.lower() not in stop_words and len(token)>1])"
   ]
  },
  {
   "cell_type": "markdown",
   "id": "raised-portfolio",
   "metadata": {},
   "source": [
    "# Topic tagging"
   ]
  },
  {
   "cell_type": "markdown",
   "id": "bulgarian-grill",
   "metadata": {},
   "source": [
    "### Preparing a dictionary"
   ]
  },
  {
   "cell_type": "code",
   "execution_count": 6,
   "id": "sonic-better",
   "metadata": {},
   "outputs": [
    {
     "name": "stdout",
     "output_type": "stream",
     "text": [
      "Dictionary(69 unique tokens: ['bitcoin', 'btc', 'everi', 'go', 'time']...)\n"
     ]
    }
   ],
   "source": [
    "# Preparing the corpus and the dictionary\n",
    "\n",
    "from gensim import corpora\n",
    "dictionary = corpora.Dictionary(df_rd.tokens)\n",
    "dictionary.filter_extremes(no_below=20) #, no_above=0.15)\n",
    "df_rd['corpus'] = [dictionary.doc2bow(tok) for tok in df_rd.tokens]\n",
    "print(dictionary)"
   ]
  },
  {
   "cell_type": "markdown",
   "id": "remarkable-paintball",
   "metadata": {},
   "source": [
    "### Preparing train and test datasets"
   ]
  },
  {
   "cell_type": "code",
   "execution_count": 8,
   "id": "caroline-cherry",
   "metadata": {},
   "outputs": [
    {
     "name": "stdout",
     "output_type": "stream",
     "text": [
      "(822, 23)\n",
      "(206, 23)\n"
     ]
    }
   ],
   "source": [
    "from sklearn.model_selection import train_test_split\n",
    "\n",
    "train, test = train_test_split(df_rd, random_state=20, test_size=0.20, shuffle=True)\n",
    "\n",
    "print(train.shape)\n",
    "print(test.shape)"
   ]
  },
  {
   "cell_type": "markdown",
   "id": "hourly-confirmation",
   "metadata": {},
   "source": [
    "### Training a model"
   ]
  },
  {
   "cell_type": "code",
   "execution_count": 9,
   "id": "posted-parliament",
   "metadata": {},
   "outputs": [],
   "source": [
    "# Define number of topics\n",
    "num_topics = 3\n",
    "\n",
    "passes = 10\n",
    "lda_model = models.LdaModel(corpus=train['corpus'],\\\n",
    "                                  num_topics=num_topics, \\\n",
    "                                  id2word=dictionary, \\\n",
    "                                  random_state=100, \\\n",
    "                                  passes=passes, \\\n",
    "                                  #iterations=100,\n",
    "                                  alpha=[0.01]*num_topics, \\\n",
    "                                  eta=[0.01]*len(dictionary.keys())\n",
    "                                  #alpha='auto', \\\n",
    "                                  #eta='auto'\n",
    "                                  #per_word_topics=True\n",
    "                                 )"
   ]
  },
  {
   "cell_type": "markdown",
   "id": "amended-verse",
   "metadata": {},
   "source": [
    "### Evaluate performance"
   ]
  },
  {
   "cell_type": "code",
   "execution_count": 10,
   "id": "promotional-boulder",
   "metadata": {},
   "outputs": [
    {
     "name": "stdout",
     "output_type": "stream",
     "text": [
      "Coherence per topic:\n",
      "[0.5797160822696608, 0.5588739986067579, 0.4173680889069179]\n",
      "\n",
      "==========================================\n",
      "Topics as word lists:\n",
      "[['bitcoin', 'bch', 'get', 'buy', 'btc', 'year', 'sell', 'like', 'today', 'time', 'accept', 'first', 'guy', 'tri', 'go', 'thank', 'block', 'stop', 'post', 'think'], ['btc', 'use', 'crypto', 'like', 'bitcoin', 'peopl', 'pay', 'see', 'coin', 'need', 'support', 'fee', 'one', 'time', 'user', 'give', 'abc', 'want', 'high', 'dont'], ['bitcoin', 'cash', 'bch', 'bank', 'make', 'new', 'day', 'peopl', 'fee', 'com', 'use', 'money', 'btc', 'transact', 'one', 'best', 'currenc', 'world', 'feel', 'work']]\n",
      "\n",
      "==========================================\n",
      "Topics:\n",
      "[array([ 0,  5, 40,  9,  1, 43,  8, 15, 27,  4, 37,  7, 13, 28,  3, 57, 50,\n",
      "       14, 60, 20]), array([ 1, 49, 35, 15,  0, 33, 44, 56, 25, 59, 51, 18, 22,  4, 42, 66, 68,\n",
      "       21, 26, 58]), array([ 0, 34,  5, 10, 53, 38, 54, 33, 18,  6, 49, 32,  1, 36, 22, 29, 16,\n",
      "       45, 31, 17])]\n",
      "\n",
      "==========================================\n",
      "Performance on the test set:\n",
      "Mean coherence of the model:      0.5186527232611122\n",
      "Median coherence of the model:    0.5588739986067579\n",
      "Maximal coherence of the model:   0.5797160822696608\n",
      "Minimal coherence of the model:   0.4173680889069179\n"
     ]
    }
   ],
   "source": [
    "coherence_model_lda = CoherenceModel(model=lda_model, texts=test['tokens'], dictionary=dictionary, coherence='c_v')\n",
    "\n",
    "print('Coherence per topic:')\n",
    "print(coherence_model_lda.get_coherence_per_topic())\n",
    "print()\n",
    "print('==========================================')\n",
    "print('Topics as word lists:')\n",
    "print(coherence_model_lda.top_topics_as_word_lists(lda_model, dictionary, topn=20))\n",
    "print()\n",
    "print('==========================================')\n",
    "print('Topics:')\n",
    "print(coherence_model_lda.topics)\n",
    "print()\n",
    "print('==========================================')\n",
    "print('Performance on the test set:')\n",
    "# Compute Perplexity\n",
    "#print('Perplexity: ', lda_model.log_perplexity(test['corpus']))  # a measure of how good the model is. lower the better.\n",
    "\n",
    "# Compute Coherence Score\n",
    "coherence_model_lda = CoherenceModel(model=lda_model, texts=test['tokens'], dictionary=dictionary, coherence='c_v')\n",
    "coherence_list = coherence_model_lda.get_coherence_per_topic()\n",
    "print('Mean coherence of the model:      {}'.format(coherence_model_lda.get_coherence()))\n",
    "print('Median coherence of the model:    {}'.format(np.median(coherence_list)))\n",
    "print('Maximal coherence of the model:   {}'.format(max(coherence_list)))\n",
    "print('Minimal coherence of the model:   {}'.format(min(coherence_list)))"
   ]
  },
  {
   "cell_type": "markdown",
   "id": "greater-majority",
   "metadata": {},
   "source": [
    "### Visualisation"
   ]
  },
  {
   "cell_type": "code",
   "execution_count": 12,
   "id": "exciting-accessory",
   "metadata": {},
   "outputs": [
    {
     "name": "stderr",
     "output_type": "stream",
     "text": [
      "/Users/snezana/testenv/lib/python3.9/site-packages/ipykernel/ipkernel.py:283: DeprecationWarning: `should_run_async` will not call `transform_cell` automatically in the future. Please pass the result to `transformed_cell` argument and any exception that happen during thetransform in `preprocessing_exc_tuple` in IPython 7.17 and above.\n",
      "  and should_run_async(code)\n"
     ]
    },
    {
     "data": {
      "text/html": [
       "\n",
       "<link rel=\"stylesheet\" type=\"text/css\" href=\"https://cdn.jsdelivr.net/gh/bmabey/pyLDAvis@3.2.2/pyLDAvis/js/ldavis.v1.0.0.css\">\n",
       "\n",
       "\n",
       "<div id=\"ldavis_el2431348206141602023887865\"></div>\n",
       "<script type=\"text/javascript\">\n",
       "\n",
       "var ldavis_el2431348206141602023887865_data = {\"mdsDat\": {\"x\": [0.0014697281326672494, -0.14914704998329473, 0.14767732185062743], \"y\": [-0.13789501127700193, 0.06792332334422319, 0.0699716879327787], \"topics\": [1, 2, 3], \"cluster\": [1, 1, 1], \"Freq\": [48.43799317774075, 26.73739203850729, 24.824614783751954]}, \"tinfo\": {\"Term\": [\"bch\", \"cash\", \"get\", \"crypto\", \"btc\", \"buy\", \"sell\", \"pay\", \"see\", \"coin\", \"bitcoin\", \"bank\", \"use\", \"like\", \"give\", \"need\", \"guy\", \"year\", \"support\", \"new\", \"today\", \"peopl\", \"user\", \"abc\", \"one\", \"accept\", \"time\", \"com\", \"tri\", \"high\", \"bank\", \"com\", \"feel\", \"new\", \"currenc\", \"best\", \"cash\", \"day\", \"back\", \"world\", \"work\", \"great\", \"make\", \"thing\", \"network\", \"bitcoin\", \"big\", \"would\", \"mani\", \"money\", \"everyon\", \"transact\", \"market\", \"block\", \"everi\", \"one\", \"thank\", \"peopl\", \"good\", \"high\", \"fee\", \"accept\", \"bch\", \"use\", \"btc\", \"year\", \"guy\", \"sell\", \"buy\", \"get\", \"tri\", \"look\", \"post\", \"today\", \"stop\", \"year\", \"go\", \"think\", \"bch\", \"first\", \"accept\", \"fund\", \"time\", \"block\", \"thank\", \"worth\", \"everi\", \"like\", \"cryptocurr\", \"much\", \"btc\", \"transact\", \"good\", \"would\", \"say\", \"want\", \"bitcoin\", \"fee\", \"make\", \"see\", \"give\", \"coin\", \"crypto\", \"abc\", \"pay\", \"need\", \"support\", \"user\", \"commun\", \"dont\", \"use\", \"high\", \"cryptocurr\", \"much\", \"valu\", \"peopl\", \"one\", \"want\", \"like\", \"btc\", \"say\", \"amp\", \"time\", \"fee\", \"mani\", \"money\", \"big\", \"network\", \"thing\", \"post\", \"good\", \"bitcoin\", \"get\", \"bch\", \"cash\"], \"Freq\": [168.0, 183.0, 66.0, 46.0, 135.0, 57.0, 38.0, 36.0, 25.0, 25.0, 537.0, 44.0, 74.0, 82.0, 21.0, 32.0, 24.0, 57.0, 31.0, 40.0, 41.0, 66.0, 29.0, 24.0, 48.0, 43.0, 58.0, 28.0, 24.0, 32.0, 44.177050415025924, 28.2312775093076, 22.090698024954726, 40.32392378663165, 24.406345561884052, 25.474936882909482, 168.6138392769349, 36.035577668990726, 19.4546103769728, 22.543029935720163, 21.302009818542796, 18.12081362652906, 42.511707547438945, 13.536594779743655, 15.94226730817909, 382.0394617799054, 18.913103901199975, 18.40841510457864, 14.228457550989535, 26.743770250673332, 13.30232083140715, 25.902444651235776, 15.86513377316147, 19.8206262243653, 14.981022667432173, 25.681992730792118, 19.95715900778059, 33.14118299013511, 12.953969514883395, 15.227471220601174, 31.82676794937167, 20.226239591803022, 63.41397980745928, 28.087933893077935, 26.351591544084535, 19.02330166228834, 23.49838429478866, 35.40954328889595, 46.97073946162837, 52.2527583353095, 18.370626426907485, 13.858477260805808, 16.235041833909662, 27.806091914201254, 16.27903050305517, 36.59698338913503, 17.364023717671174, 15.25240374920951, 93.97086041150932, 23.501454833991502, 23.64450362006625, 13.617858568797015, 26.738743649785572, 16.403344739906178, 16.522410878002272, 8.463409621078972, 10.691509363639033, 30.118011314568232, 10.092652632409079, 9.763375807531474, 46.50279846268605, 12.10658636180788, 7.468829367232655, 7.094462804722718, 6.647621522207611, 9.325062071057559, 118.07686738455847, 14.713438917382685, 11.365804032669427, 25.575178135620156, 21.734406495694778, 25.502993502939113, 40.18863983547108, 20.347238440849427, 29.564659246535413, 25.11229284743488, 24.01828567794391, 21.985633357869965, 13.142530566816934, 15.731982740174816, 40.71265310912294, 17.41007388069755, 13.906078161299696, 13.812729511551034, 12.751009942566334, 31.464631800035917, 22.883623879922528, 18.221004715519964, 38.34355802836462, 62.84870281169972, 12.712446310403044, 11.159018562967708, 22.019802779042756, 23.762250056571574, 6.947157059948873, 13.006008052463676, 8.448571557991562, 6.428709381210889, 5.097460076248183, 6.562126967528277, 7.194033067551504, 37.39375126239742, 11.2217575816484, 11.130826242359804, 10.032455287434788], \"Total\": [168.0, 183.0, 66.0, 46.0, 135.0, 57.0, 38.0, 36.0, 25.0, 25.0, 537.0, 44.0, 74.0, 82.0, 21.0, 32.0, 24.0, 57.0, 31.0, 40.0, 41.0, 66.0, 29.0, 24.0, 48.0, 43.0, 58.0, 28.0, 24.0, 32.0, 44.22697958069285, 28.269625561288247, 22.13243642283772, 40.551371312483276, 25.873034757491578, 27.107260041336726, 183.52240216456548, 40.734947407667754, 22.240400523288482, 27.231606604477896, 26.005719545014387, 22.301715824440993, 58.33827619342842, 18.65809987557812, 22.395021680174597, 537.5100804268614, 27.38765371859821, 27.38505075163886, 21.188370244736124, 39.85178334560347, 19.938684615148393, 43.686586650192275, 27.499209680879545, 36.25252694456012, 27.519356842242882, 48.85580232972635, 38.80601499198675, 66.45031054631997, 27.616831949667557, 32.66469108104742, 70.30245692332593, 43.890026369468366, 168.5156664613284, 74.33303382646744, 135.7030928184703, 57.97620643671741, 24.247646400500784, 38.26806506706368, 57.265106112030345, 66.29470847203201, 24.291290381078998, 20.198995535541382, 24.239319330818198, 41.60077621564823, 25.409364498887314, 57.97620643671741, 27.81366258148299, 25.280786547373538, 168.5156664613284, 42.85296811314837, 43.890026369468366, 26.473569240987043, 58.41005976738409, 36.25252694456012, 38.80601499198675, 21.408536013110982, 27.519356842242882, 82.52797686305067, 27.9908405618, 27.974634356162603, 135.7030928184703, 43.686586650192275, 27.616831949667557, 27.38505075163886, 27.81200042269905, 39.18579268174565, 537.5100804268614, 70.30245692332593, 58.33827619342842, 25.634076798810558, 21.79523975682162, 25.6315877922928, 46.07000794406406, 24.336211490719236, 36.84458712554397, 32.98026484270602, 31.708690193977368, 29.174718571258047, 21.4422271449614, 27.86197607905945, 74.33303382646744, 32.66469108104742, 27.9908405618, 27.974634356162603, 26.406577463831212, 66.45031054631997, 48.85580232972635, 39.18579268174565, 82.52797686305067, 135.7030928184703, 27.81200042269905, 27.645381620561437, 58.41005976738409, 70.30245692332593, 21.188370244736124, 39.85178334560347, 27.38765371859821, 22.395021680174597, 18.65809987557812, 24.239319330818198, 27.616831949667557, 537.5100804268614, 66.29470847203201, 168.5156664613284, 183.52240216456548], \"Category\": [\"Default\", \"Default\", \"Default\", \"Default\", \"Default\", \"Default\", \"Default\", \"Default\", \"Default\", \"Default\", \"Default\", \"Default\", \"Default\", \"Default\", \"Default\", \"Default\", \"Default\", \"Default\", \"Default\", \"Default\", \"Default\", \"Default\", \"Default\", \"Default\", \"Default\", \"Default\", \"Default\", \"Default\", \"Default\", \"Default\", \"Topic1\", \"Topic1\", \"Topic1\", \"Topic1\", \"Topic1\", \"Topic1\", \"Topic1\", \"Topic1\", \"Topic1\", \"Topic1\", \"Topic1\", \"Topic1\", \"Topic1\", \"Topic1\", \"Topic1\", \"Topic1\", \"Topic1\", \"Topic1\", \"Topic1\", \"Topic1\", \"Topic1\", \"Topic1\", \"Topic1\", \"Topic1\", \"Topic1\", \"Topic1\", \"Topic1\", \"Topic1\", \"Topic1\", \"Topic1\", \"Topic1\", \"Topic1\", \"Topic1\", \"Topic1\", \"Topic1\", \"Topic1\", \"Topic2\", \"Topic2\", \"Topic2\", \"Topic2\", \"Topic2\", \"Topic2\", \"Topic2\", \"Topic2\", \"Topic2\", \"Topic2\", \"Topic2\", \"Topic2\", \"Topic2\", \"Topic2\", \"Topic2\", \"Topic2\", \"Topic2\", \"Topic2\", \"Topic2\", \"Topic2\", \"Topic2\", \"Topic2\", \"Topic2\", \"Topic2\", \"Topic2\", \"Topic2\", \"Topic2\", \"Topic2\", \"Topic2\", \"Topic2\", \"Topic2\", \"Topic2\", \"Topic2\", \"Topic3\", \"Topic3\", \"Topic3\", \"Topic3\", \"Topic3\", \"Topic3\", \"Topic3\", \"Topic3\", \"Topic3\", \"Topic3\", \"Topic3\", \"Topic3\", \"Topic3\", \"Topic3\", \"Topic3\", \"Topic3\", \"Topic3\", \"Topic3\", \"Topic3\", \"Topic3\", \"Topic3\", \"Topic3\", \"Topic3\", \"Topic3\", \"Topic3\", \"Topic3\", \"Topic3\", \"Topic3\", \"Topic3\", \"Topic3\", \"Topic3\", \"Topic3\", \"Topic3\", \"Topic3\", \"Topic3\", \"Topic3\"], \"logprob\": [30.0, 29.0, 28.0, 27.0, 26.0, 25.0, 24.0, 23.0, 22.0, 21.0, 20.0, 19.0, 18.0, 17.0, 16.0, 15.0, 14.0, 13.0, 12.0, 11.0, 10.0, 9.0, 8.0, 7.0, 6.0, 5.0, 4.0, 3.0, 2.0, 1.0, -3.5856, -4.0333, -4.2786, -3.6768, -4.1789, -4.1361, -2.2461, -3.7893, -4.4057, -4.2583, -4.315, -4.4767, -3.624, -4.7684, -4.6048, -1.4282, -4.4339, -4.4609, -4.7185, -4.0875, -4.7858, -4.1194, -4.6096, -4.387, -4.667, -4.128, -4.3802, -3.873, -4.8124, -4.6507, -3.9134, -4.3668, -3.2241, -4.0384, -4.1022, -4.4281, -3.6226, -3.2126, -2.93, -2.8234, -3.8688, -4.1506, -3.9924, -3.4543, -3.9897, -3.1796, -3.9251, -4.0548, -2.2366, -3.6225, -3.6164, -4.1682, -3.4934, -3.9821, -3.9748, -4.6438, -4.4101, -3.3744, -4.4677, -4.5009, -2.94, -4.2858, -4.7688, -4.8202, -4.8853, -4.5468, -2.0082, -4.0908, -4.3489, -3.4637, -3.6264, -3.4665, -3.0117, -3.6924, -3.3187, -3.482, -3.5265, -3.6149, -4.1295, -3.9496, -2.9988, -3.8483, -4.073, -4.0797, -4.1597, -3.2564, -3.5749, -3.8027, -3.0587, -2.5646, -4.1627, -4.2931, -3.6134, -3.5372, -4.767, -4.1399, -4.5713, -4.8445, -5.0766, -4.824, -4.7321, -3.0838, -4.2875, -4.2956, -4.3995], \"loglift\": [30.0, 29.0, 28.0, 27.0, 26.0, 25.0, 24.0, 23.0, 22.0, 21.0, 20.0, 19.0, 18.0, 17.0, 16.0, 15.0, 14.0, 13.0, 12.0, 11.0, 10.0, 9.0, 8.0, 7.0, 6.0, 5.0, 4.0, 3.0, 2.0, 1.0, 0.7238, 0.7235, 0.723, 0.7193, 0.6665, 0.6628, 0.6402, 0.6023, 0.5911, 0.5359, 0.5254, 0.5173, 0.4084, 0.404, 0.385, 0.3835, 0.3546, 0.3277, 0.3267, 0.326, 0.3202, 0.2022, 0.1749, 0.1211, 0.1168, 0.0818, 0.0599, 0.0292, -0.0321, -0.0383, -0.0676, -0.0498, -0.2525, -0.2483, -0.9141, -0.3895, 1.2877, 1.2415, 1.1209, 1.0811, 1.0397, 0.9424, 0.9183, 0.9162, 0.8739, 0.859, 0.848, 0.8138, 0.7351, 0.7184, 0.7006, 0.6543, 0.5377, 0.5261, 0.4652, 0.3911, 0.3737, 0.3111, 0.299, 0.2664, 0.2482, 0.0358, 0.0114, -0.0316, -0.1121, -0.1165, -0.1965, -0.2449, -0.3165, 1.391, 1.3905, 1.3883, 1.2568, 1.2143, 1.1732, 1.1208, 1.1156, 1.1104, 0.9038, 0.8218, 0.7913, 0.7641, 0.6938, 0.6876, 0.6653, 0.6457, 0.6349, 0.6276, 0.6268, 0.6236, 0.6104, 0.4861, 0.4178, 0.3086, 0.2782, 0.2736, 0.2172, 0.1453, 0.0958, 0.0867, 0.0482, -1.2721, -0.3829, -1.324, -1.5132]}, \"token.table\": {\"Topic\": [2, 3, 1, 2, 1, 2, 3, 1, 2, 3, 1, 1, 2, 3, 1, 3, 1, 3, 1, 2, 3, 1, 2, 1, 2, 3, 1, 2, 3, 1, 2, 3, 3, 1, 1, 3, 1, 2, 3, 1, 2, 3, 1, 3, 1, 3, 1, 2, 3, 1, 2, 3, 1, 2, 3, 1, 2, 3, 1, 1, 2, 3, 1, 2, 3, 1, 2, 3, 3, 1, 2, 3, 1, 2, 3, 1, 3, 1, 2, 1, 3, 1, 2, 3, 1, 2, 1, 2, 3, 1, 3, 1, 2, 3, 1, 3, 1, 2, 3, 1, 3, 1, 3, 1, 1, 3, 1, 3, 1, 2, 3, 1, 2, 3, 1, 2, 3, 3, 1, 2, 3, 1, 2, 3, 1, 3, 1, 2, 3, 1, 3, 1, 2, 3, 1, 2, 3, 1, 2, 1, 2, 3, 2, 3, 1, 2, 3, 1, 3, 1, 2, 3, 1, 2, 3, 1, 3, 1, 3, 1, 2, 3, 1, 2, 3, 1, 2, 3], \"Freq\": [0.16436412058324792, 0.8218206029162396, 0.4556843924320991, 0.546821270918519, 0.4702412930458939, 0.14468962862950582, 0.397896478731141, 0.8543011615327981, 0.044963219028042005, 0.044963219028042005, 0.9948678480229761, 0.3738524810359841, 0.5578116383711509, 0.06527583002215595, 0.9222621527176373, 0.07378097221741099, 0.6937432536288283, 0.2921024225805593, 0.7106843460435873, 0.2195307665789092, 0.06883591833406474, 0.55168568057574, 0.441348544460592, 0.19159474894783818, 0.34634435386724594, 0.46424881475822327, 0.08731320588524312, 0.8207441353212854, 0.08731320588524312, 0.9208685043717815, 0.02724463030685744, 0.05448926061371488, 1.0143733665933086, 0.9904623582401648, 0.37309557192522697, 0.6062803043784938, 0.02170609567105243, 0.10853047835526215, 0.8682438268420972, 0.1429038899767422, 0.35725972494185554, 0.5001636149185977, 0.9276066849116246, 0.038650278537984355, 0.8837620345920351, 0.12274472702667154, 0.2512384613401873, 0.17945604381441949, 0.5742593402061423, 0.5450708781454745, 0.399718643973348, 0.07267611708606327, 0.6519988781066964, 0.15046127956308378, 0.20061503941744505, 0.4551761261331194, 0.21336380912489972, 0.3413820945998396, 0.9940161841964645, 0.35003409706404026, 0.5600545553024644, 0.11667803235468009, 0.3399617149494891, 0.528829334365872, 0.15109409553310627, 0.04525248046404218, 0.7843763280433977, 0.16592576170148798, 1.0093947231350962, 0.2876284263736635, 0.611210406044035, 0.10786065989012382, 0.47072741810837904, 0.25346860975066565, 0.25346860975066565, 0.8071127863746412, 0.1793583969721425, 0.04124111608536765, 0.948545669963456, 0.4592114452508397, 0.5204396379509516, 0.1696394426732647, 0.3635130914427101, 0.4604499158274328, 0.2970444737928987, 0.6931037721834303, 0.7370804008234269, 0.18855545137343477, 0.06856561868124901, 0.6607398227562147, 0.33036991137810734, 0.5818349030999588, 0.18182340721873713, 0.21818808866248457, 0.6775104583363317, 0.32620873919897453, 0.14298667675414423, 0.35746669188536057, 0.5004533686395048, 0.24256930737684163, 0.75802908555263, 0.7144444970180203, 0.2679166863817576, 0.9864031401494543, 0.5321783444375097, 0.4707731508485663, 0.18998720154328919, 0.8142308637569537, 0.4966116746286229, 0.030097677250219567, 0.4665139973784033, 0.04125528387790108, 0.6600845420464173, 0.28878698714530754, 0.2876456162236614, 0.25168991419570375, 0.4674241263634498, 1.014274873406263, 0.026131449244886796, 0.9146007235710378, 0.05226289848977359, 0.15742227634914527, 0.6296891053965811, 0.1967778454364316, 0.25229676631422293, 0.7568902989426688, 0.5153840198260476, 0.4380764168521405, 0.05153840198260476, 0.7503443594663581, 0.2679801283808422, 0.2768901191773735, 0.5933359696658004, 0.11866719393316008, 0.17120338585210546, 0.46224914180068477, 0.37664744887463203, 0.3365321821743765, 0.673064364348753, 0.5951483508699704, 0.27468385424767866, 0.13734192712383933, 0.7410063326244942, 0.2470021108748314, 0.37668313209665016, 0.08071781402071075, 0.5515717291415234, 0.2399337626137777, 0.7540775396433014, 0.45443223440963765, 0.07573870573493961, 0.49230158727710743, 0.30623343765073535, 0.22967507823805153, 0.45935015647610306, 0.8075146685962764, 0.19226539728482772, 0.8446067958479518, 0.14688813840833945, 0.3736827214668323, 0.3736827214668323, 0.2335517009167702, 0.6572929209898503, 0.2556139137182751, 0.07303254677665003, 0.32772064900001713, 0.638192842789507, 0.03449691042105443], \"Term\": [\"abc\", \"abc\", \"accept\", \"accept\", \"amp\", \"amp\", \"amp\", \"back\", \"back\", \"back\", \"bank\", \"bch\", \"bch\", \"bch\", \"best\", \"best\", \"big\", \"big\", \"bitcoin\", \"bitcoin\", \"bitcoin\", \"block\", \"block\", \"btc\", \"btc\", \"btc\", \"buy\", \"buy\", \"buy\", \"cash\", \"cash\", \"cash\", \"coin\", \"com\", \"commun\", \"commun\", \"crypto\", \"crypto\", \"crypto\", \"cryptocurr\", \"cryptocurr\", \"cryptocurr\", \"currenc\", \"currenc\", \"day\", \"day\", \"dont\", \"dont\", \"dont\", \"everi\", \"everi\", \"everi\", \"everyon\", \"everyon\", \"everyon\", \"fee\", \"fee\", \"fee\", \"feel\", \"first\", \"first\", \"first\", \"fund\", \"fund\", \"fund\", \"get\", \"get\", \"get\", \"give\", \"go\", \"go\", \"go\", \"good\", \"good\", \"good\", \"great\", \"great\", \"guy\", \"guy\", \"high\", \"high\", \"like\", \"like\", \"like\", \"look\", \"look\", \"make\", \"make\", \"make\", \"mani\", \"mani\", \"market\", \"market\", \"market\", \"money\", \"money\", \"much\", \"much\", \"much\", \"need\", \"need\", \"network\", \"network\", \"new\", \"one\", \"one\", \"pay\", \"pay\", \"peopl\", \"peopl\", \"peopl\", \"post\", \"post\", \"post\", \"say\", \"say\", \"say\", \"see\", \"sell\", \"sell\", \"sell\", \"stop\", \"stop\", \"stop\", \"support\", \"support\", \"thank\", \"thank\", \"thank\", \"thing\", \"thing\", \"think\", \"think\", \"think\", \"time\", \"time\", \"time\", \"today\", \"today\", \"transact\", \"transact\", \"transact\", \"tri\", \"tri\", \"use\", \"use\", \"use\", \"user\", \"user\", \"valu\", \"valu\", \"valu\", \"want\", \"want\", \"want\", \"work\", \"work\", \"world\", \"world\", \"worth\", \"worth\", \"worth\", \"would\", \"would\", \"would\", \"year\", \"year\", \"year\"]}, \"R\": 30, \"lambda.step\": 0.01, \"plot.opts\": {\"xlab\": \"PC1\", \"ylab\": \"PC2\"}, \"topic.order\": [3, 1, 2]};\n",
       "\n",
       "function LDAvis_load_lib(url, callback){\n",
       "  var s = document.createElement('script');\n",
       "  s.src = url;\n",
       "  s.async = true;\n",
       "  s.onreadystatechange = s.onload = callback;\n",
       "  s.onerror = function(){console.warn(\"failed to load library \" + url);};\n",
       "  document.getElementsByTagName(\"head\")[0].appendChild(s);\n",
       "}\n",
       "\n",
       "if(typeof(LDAvis) !== \"undefined\"){\n",
       "   // already loaded: just create the visualization\n",
       "   !function(LDAvis){\n",
       "       new LDAvis(\"#\" + \"ldavis_el2431348206141602023887865\", ldavis_el2431348206141602023887865_data);\n",
       "   }(LDAvis);\n",
       "}else if(typeof define === \"function\" && define.amd){\n",
       "   // require.js is available: use it to load d3/LDAvis\n",
       "   require.config({paths: {d3: \"https://d3js.org/d3.v5\"}});\n",
       "   require([\"d3\"], function(d3){\n",
       "      window.d3 = d3;\n",
       "      LDAvis_load_lib(\"https://cdn.jsdelivr.net/gh/bmabey/pyLDAvis@3.2.2/pyLDAvis/js/ldavis.v3.0.0.js\", function(){\n",
       "        new LDAvis(\"#\" + \"ldavis_el2431348206141602023887865\", ldavis_el2431348206141602023887865_data);\n",
       "      });\n",
       "    });\n",
       "}else{\n",
       "    // require.js not available: dynamically load d3 & LDAvis\n",
       "    LDAvis_load_lib(\"https://d3js.org/d3.v5.js\", function(){\n",
       "         LDAvis_load_lib(\"https://cdn.jsdelivr.net/gh/bmabey/pyLDAvis@3.2.2/pyLDAvis/js/ldavis.v3.0.0.js\", function(){\n",
       "                 new LDAvis(\"#\" + \"ldavis_el2431348206141602023887865\", ldavis_el2431348206141602023887865_data);\n",
       "            })\n",
       "         });\n",
       "}\n",
       "</script>"
      ],
      "text/plain": [
       "<IPython.core.display.HTML object>"
      ]
     },
     "execution_count": 12,
     "metadata": {},
     "output_type": "execute_result"
    }
   ],
   "source": [
    "import pyLDAvis\n",
    "import pyLDAvis.gensim\n",
    "data_ = pyLDAvis.gensim.prepare(lda_model, df_rd['corpus'], dictionary)\n",
    "pyLDAvis.display(data_)"
   ]
  },
  {
   "cell_type": "markdown",
   "id": "informed-blond",
   "metadata": {},
   "source": [
    "# Applying topic tagging"
   ]
  },
  {
   "cell_type": "code",
   "execution_count": 13,
   "id": "incomplete-audio",
   "metadata": {
    "scrolled": true
   },
   "outputs": [
    {
     "name": "stderr",
     "output_type": "stream",
     "text": [
      "/Users/snezana/testenv/lib/python3.9/site-packages/ipykernel/ipkernel.py:283: DeprecationWarning: `should_run_async` will not call `transform_cell` automatically in the future. Please pass the result to `transformed_cell` argument and any exception that happen during thetransform in `preprocessing_exc_tuple` in IPython 7.17 and above.\n",
      "  and should_run_async(code)\n"
     ]
    }
   ],
   "source": [
    "from operator import itemgetter\n",
    "\n",
    "def get_dominant_topic(l):\n",
    "    return max(l,key=itemgetter(1))[0]\n",
    "\n",
    "df_rd['categorisation_full'] = df_rd['corpus'].apply(lambda x: lda_model.get_document_topics(x, minimum_probability=0))\n",
    "df_rd['rd_topic'] = df_rd['categorisation_full'].apply(lambda x: get_dominant_topic(x))\n",
    "\n",
    "df_rd.drop(columns=['rd_sentiments', 'clean_text', 'tokens_sentences', 'tokens', 'POS_tokens', 'sentences',\n",
    "       'tokens_sentences_lemmatized', 'corpus', 'categorisation_full'], inplace=True)"
   ]
  },
  {
   "cell_type": "markdown",
   "id": "thousand-interest",
   "metadata": {},
   "source": [
    "### Save the df to csv"
   ]
  },
  {
   "cell_type": "code",
   "execution_count": 15,
   "id": "patent-dover",
   "metadata": {},
   "outputs": [
    {
     "name": "stderr",
     "output_type": "stream",
     "text": [
      "/Users/snezana/testenv/lib/python3.9/site-packages/ipykernel/ipkernel.py:283: DeprecationWarning: `should_run_async` will not call `transform_cell` automatically in the future. Please pass the result to `transformed_cell` argument and any exception that happen during thetransform in `preprocessing_exc_tuple` in IPython 7.17 and above.\n",
      "  and should_run_async(code)\n"
     ]
    }
   ],
   "source": [
    "df_rd.to_csv('df_rd_topic.csv', index=False)"
   ]
  },
  {
   "cell_type": "code",
   "execution_count": null,
   "id": "progressive-scale",
   "metadata": {},
   "outputs": [],
   "source": []
  }
 ],
 "metadata": {
  "kernelspec": {
   "display_name": "Python 3",
   "language": "python",
   "name": "python3"
  },
  "language_info": {
   "codemirror_mode": {
    "name": "ipython",
    "version": 3
   },
   "file_extension": ".py",
   "mimetype": "text/x-python",
   "name": "python",
   "nbconvert_exporter": "python",
   "pygments_lexer": "ipython3",
   "version": "3.9.2"
  }
 },
 "nbformat": 4,
 "nbformat_minor": 5
}
