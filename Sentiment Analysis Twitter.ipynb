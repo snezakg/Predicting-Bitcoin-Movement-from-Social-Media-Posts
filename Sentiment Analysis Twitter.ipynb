{
 "cells": [
  {
   "cell_type": "code",
   "execution_count": 1,
   "id": "asian-cradle",
   "metadata": {},
   "outputs": [],
   "source": [
    "import pandas as pd\n",
    "import nltk\n",
    "from nltk.sentiment.vader import SentimentIntensityAnalyzer"
   ]
  },
  {
   "cell_type": "code",
   "execution_count": 2,
   "id": "absolute-hobby",
   "metadata": {},
   "outputs": [],
   "source": [
    "# Sentiment computation\n",
    "def get_sentiment(df_row, query):\n",
    "\n",
    "    sa = SentimentIntensityAnalyzer()\n",
    "\n",
    "    # Apply a selection\n",
    "    df = df_row.query(query).copy(deep=True)\n",
    "\n",
    "    df['tw_sentiments'] = df.Text.apply(lambda x: sa.polarity_scores(x))\n",
    "    df['tw_neg'] = df.tw_sentiments.apply(lambda x: x['neg'])\n",
    "    df['tw_pos'] = df.tw_sentiments.apply(lambda x: x['pos'])\n",
    "    df['tw_neu'] = df.tw_sentiments.apply(lambda x: x['neu'])\n",
    "    df['tw_comp'] = df.tw_sentiments.apply(lambda x: x['compound'])\n",
    "\n",
    "    # Apply selection\n",
    "    df = df.query('tw_comp != 0')\n",
    "\n",
    "    # Compute extra vars\n",
    "    df['tw_RelDiffPosNeg'] = (df.tw_pos-df.tw_neg)/(df.tw_pos+df.tw_neg)\n",
    "    df['tw_comp_quintile'] = pd.qcut(df['tw_comp'],q=[0, .2, .4, .6, .8, 1],labels=[1, 2, 3, 4, 5])\n",
    "    \n",
    "    return df"
   ]
  },
  {
   "cell_type": "code",
   "execution_count": 3,
   "id": "sticky-nursery",
   "metadata": {},
   "outputs": [
    {
     "name": "stderr",
     "output_type": "stream",
     "text": [
      "<ipython-input-2-6ae8f128ac47>:19: SettingWithCopyWarning: \n",
      "A value is trying to be set on a copy of a slice from a DataFrame.\n",
      "Try using .loc[row_indexer,col_indexer] = value instead\n",
      "\n",
      "See the caveats in the documentation: https://pandas.pydata.org/pandas-docs/stable/user_guide/indexing.html#returning-a-view-versus-a-copy\n",
      "  df['tw_RelDiffPosNeg'] = (df.tw_pos-df.tw_neg)/(df.tw_pos+df.tw_neg)\n",
      "<ipython-input-2-6ae8f128ac47>:20: SettingWithCopyWarning: \n",
      "A value is trying to be set on a copy of a slice from a DataFrame.\n",
      "Try using .loc[row_indexer,col_indexer] = value instead\n",
      "\n",
      "See the caveats in the documentation: https://pandas.pydata.org/pandas-docs/stable/user_guide/indexing.html#returning-a-view-versus-a-copy\n",
      "  df['tw_comp_quintile'] = pd.qcut(df['tw_comp'],q=[0, .2, .4, .6, .8, 1],labels=[1, 2, 3, 4, 5])\n"
     ]
    }
   ],
   "source": [
    "# Read the raw data frame\n",
    "df_tw_row = pd.read_csv('df_tw_row.csv')\n",
    "\n",
    "# Apply sentiment analysis and selection\n",
    "df_tw = get_sentiment(df_tw_row, 'Like_Count > 200')\n",
    "\n",
    "# Store the dataframe\n",
    "df_tw.to_csv('df_tw_sentiment.csv', index=False)"
   ]
  },
  {
   "cell_type": "code",
   "execution_count": null,
   "id": "marine-female",
   "metadata": {},
   "outputs": [],
   "source": []
  },
  {
   "cell_type": "code",
   "execution_count": null,
   "id": "beneficial-windows",
   "metadata": {},
   "outputs": [],
   "source": []
  }
 ],
 "metadata": {
  "kernelspec": {
   "display_name": "Python 3",
   "language": "python",
   "name": "python3"
  },
  "language_info": {
   "codemirror_mode": {
    "name": "ipython",
    "version": 3
   },
   "file_extension": ".py",
   "mimetype": "text/x-python",
   "name": "python",
   "nbconvert_exporter": "python",
   "pygments_lexer": "ipython3",
   "version": "3.9.2"
  }
 },
 "nbformat": 4,
 "nbformat_minor": 5
}
